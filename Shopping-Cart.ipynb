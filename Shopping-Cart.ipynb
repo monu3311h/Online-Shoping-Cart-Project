{
 "cells": [
  {
   "cell_type": "code",
   "execution_count": 3,
   "id": "8c65aa7c-b4fb-4d6a-9329-aa4e13c5f532",
   "metadata": {},
   "outputs": [],
   "source": [
    "# Online Shoping Cart\n",
    "import pandas as pd"
   ]
  },
  {
   "cell_type": "code",
   "execution_count": 5,
   "id": "d9287d4b-8622-4c28-aca3-c830bdd893e4",
   "metadata": {},
   "outputs": [],
   "source": [
    "class Shopping:\n",
    "    def __init__(self):\n",
    "        self.cart = []\n",
    "        print('\\t\\tWelcome to MyShopping.com')\n",
    "        self.display_menu()\n",
    "    def Fashion(self):\n",
    "        products = ['Jeans', 'Jacket', 'Denim Cargo', 'Tshirt', 'Trouser']\n",
    "        prices = [900, 1500, 2000, 600, 1200]\n",
    "        max_index = len(products)\n",
    "        self.handle_category(products, prices, \"Fashion\", max_index)\n",
    "        \n",
    "            \n",
    "    def handle_category(self, products, prices, category_name, max_index):\n",
    "        dict = {'Products': products, 'Prices': prices}\n",
    "        df = pd.DataFrame(dict)\n",
    "        \n",
    "        print(f\"\\nAvailable {category_name} Products:\")\n",
    "        print(df)\n",
    "        while True:\n",
    "            try:\n",
    "                item_index = int(input('Choose the item index: '))\n",
    "                if 0 <= item_index < max_index:\n",
    "                     quantity = int(input('Choose the quantity: '))\n",
    "                     total_price = df['Prices'][item_index] * quantity\n",
    "                     item_name = df['Products'][item_index]\n",
    "            \n",
    "                     user_input = input('Do you want to add it to the cart? (y/n): ').lower()\n",
    "                     if user_input == 'y':\n",
    "                         self.add_to_cart(item_name, quantity, total_price)\n",
    "                         add_again = input(f'Do you want to add more {category_name} products? (y/n): ').lower()\n",
    "                         if add_again == 'y':\n",
    "                             self.handle_category(products, prices, category_name, max_index)\n",
    "                         else:\n",
    "                             break\n",
    "                         \n",
    "                     else:\n",
    "                        break\n",
    "                else:\n",
    "                    print(f\"Please enter a number between 0 and {max_index - 1}.\")\n",
    "            except ValueError:\n",
    "                print(\"Invalid input. Please enter a number.\")\n",
    "                \n",
    "           \n",
    "    def Electronics(self):\n",
    "        products = ['Tv', 'Ac', 'Freeze', 'Lcd', 'Pc', 'Smartphone']\n",
    "        prices = [9000, 25000, 15000, 12000, 50000, 40000]\n",
    "        max_index = len(products)\n",
    "        self.handle_category(products, prices, \"Electronics\", max_index)\n",
    "            \n",
    "    def Books(self):\n",
    "        products = ['Recurssion', 'Alchemist', 'Dark', 'Half Girlfriend']\n",
    "        prices = [900, 500, 600, 400]\n",
    "        max_index = len(products)\n",
    "        self.handle_category(products, prices, \"Books\", max_index)\n",
    "            \n",
    "    def Home(self):\n",
    "        products = ['Mixxer', 'Chair', 'Bedsheet', 'Pillow', 'Table']\n",
    "        prices = [4000, 1500, 800, 400, 3500]\n",
    "        max_index = len(products)\n",
    "        self.handle_category(products, prices, \"Home & Furniture\", max_index)\n",
    "            \n",
    "    def add_to_cart(self, product, quantity, price):\n",
    "       cart_item = {\"Products\": product, \"Quantity\": quantity, \"Price\": price}\n",
    "       self.cart.append(cart_item)\n",
    "       print('The Product has been added to the Cart.')\n",
    "    def show_cart(self):\n",
    "        if not self.cart:\n",
    "            print('your cart is empty')\n",
    "        else:\n",
    "            cart_df = pd.DataFrame(self.cart)\n",
    "            print('\\nCurrent Cart Itmes:')\n",
    "            print(cart_df.to_string(index=False))\n",
    "            print(f'\\n Total Cart Value: {cart_df['Price'].sum()}Rupees')\n",
    "\n",
    "    def display_menu(self):\n",
    "        while True:\n",
    "            print(\"\\nCategories:\")\n",
    "            print(\"1. Fashion\")\n",
    "            print(\"2. Electronics\")\n",
    "            print(\"3. Books\")\n",
    "            print(\"4. Home & Furniture\")\n",
    "            print(\"5. View Cart\")\n",
    "            print(\"6. Exit\")\n",
    "            \n",
    "            choice = input(\"Enter your choice: \")\n",
    "            if choice == '1':\n",
    "                self.Fashion()\n",
    "            elif choice == '2':\n",
    "                self.Electronics()\n",
    "            elif choice == '3':\n",
    "                self.Books()\n",
    "            elif choice == '4':\n",
    "                self.Home()\n",
    "            elif choice == '5':\n",
    "                self.show_cart()\n",
    "            elif choice == '6':\n",
    "                print(\"Thank you for shopping with us!\")\n",
    "                break\n",
    "            else:\n",
    "                print(\"Invalid choice. Please try again.\")\n"
   ]
  },
  {
   "cell_type": "code",
   "execution_count": 7,
   "id": "272bb3da-8355-4fa8-ab19-d0bf2cd8dce4",
   "metadata": {},
   "outputs": [
    {
     "name": "stdout",
     "output_type": "stream",
     "text": [
      "\t\tWelcome to MyShopping.com\n",
      "\n",
      "Categories:\n",
      "1. Fashion\n",
      "2. Electronics\n",
      "3. Books\n",
      "4. Home & Furniture\n",
      "5. View Cart\n",
      "6. Exit\n"
     ]
    },
    {
     "name": "stdin",
     "output_type": "stream",
     "text": [
      "Enter your choice:  1\n"
     ]
    },
    {
     "name": "stdout",
     "output_type": "stream",
     "text": [
      "\n",
      "Available Fashion Products:\n",
      "      Products  Prices\n",
      "0        Jeans     900\n",
      "1       Jacket    1500\n",
      "2  Denim Cargo    2000\n",
      "3       Tshirt     600\n",
      "4      Trouser    1200\n"
     ]
    },
    {
     "name": "stdin",
     "output_type": "stream",
     "text": [
      "Choose the item index:  2\n",
      "Choose the quantity:  2\n",
      "Do you want to add it to the cart? (y/n):  y\n"
     ]
    },
    {
     "name": "stdout",
     "output_type": "stream",
     "text": [
      "The Product has been added to the Cart.\n"
     ]
    },
    {
     "name": "stdin",
     "output_type": "stream",
     "text": [
      "Do you want to add more Fashion products? (y/n):  n\n"
     ]
    },
    {
     "name": "stdout",
     "output_type": "stream",
     "text": [
      "\n",
      "Categories:\n",
      "1. Fashion\n",
      "2. Electronics\n",
      "3. Books\n",
      "4. Home & Furniture\n",
      "5. View Cart\n",
      "6. Exit\n"
     ]
    },
    {
     "name": "stdin",
     "output_type": "stream",
     "text": [
      "Enter your choice:  5\n"
     ]
    },
    {
     "name": "stdout",
     "output_type": "stream",
     "text": [
      "\n",
      "Current Cart Itmes:\n",
      "   Products  Quantity  Price\n",
      "Denim Cargo         2   4000\n",
      "\n",
      " Total Cart Value: 4000Rupees\n",
      "\n",
      "Categories:\n",
      "1. Fashion\n",
      "2. Electronics\n",
      "3. Books\n",
      "4. Home & Furniture\n",
      "5. View Cart\n",
      "6. Exit\n"
     ]
    },
    {
     "name": "stdin",
     "output_type": "stream",
     "text": [
      "Enter your choice:  6\n"
     ]
    },
    {
     "name": "stdout",
     "output_type": "stream",
     "text": [
      "Thank you for shopping with us!\n"
     ]
    }
   ],
   "source": [
    "obj = Shopping()"
   ]
  },
  {
   "cell_type": "code",
   "execution_count": null,
   "id": "a3f765ce-c88f-4bda-bceb-cbbbcfaef7a7",
   "metadata": {},
   "outputs": [],
   "source": []
  },
  {
   "cell_type": "code",
   "execution_count": null,
   "id": "6efad31a-923e-4d9d-bdba-081c69828b8c",
   "metadata": {},
   "outputs": [],
   "source": []
  },
  {
   "cell_type": "code",
   "execution_count": null,
   "id": "8e5ae338-bf20-452c-aeeb-0e7ded356d85",
   "metadata": {},
   "outputs": [],
   "source": []
  }
 ],
 "metadata": {
  "kernelspec": {
   "display_name": "Python 3 (ipykernel)",
   "language": "python",
   "name": "python3"
  },
  "language_info": {
   "codemirror_mode": {
    "name": "ipython",
    "version": 3
   },
   "file_extension": ".py",
   "mimetype": "text/x-python",
   "name": "python",
   "nbconvert_exporter": "python",
   "pygments_lexer": "ipython3",
   "version": "3.12.4"
  }
 },
 "nbformat": 4,
 "nbformat_minor": 5
}
