{
 "cells": [
  {
   "cell_type": "code",
   "execution_count": 2,
   "id": "8c65aa7c-b4fb-4d6a-9329-aa4e13c5f532",
   "metadata": {},
   "outputs": [],
   "source": [
    "# Online Shoping Cart\n",
    "import pandas as pd"
   ]
  },
  {
   "cell_type": "code",
   "execution_count": 40,
   "id": "d9287d4b-8622-4c28-aca3-c830bdd893e4",
   "metadata": {},
   "outputs": [],
   "source": [
    "import pandas as pd\n",
    "\n",
    "class Products:\n",
    "    def __init__(self):\n",
    "        self.categories = ['Electronics', 'Books', 'Fashion']\n",
    "        print('\\t\\t\\t Welcome to our Shopping Website.\\n\\n')\n",
    "        print('\\t\\tElectronics \\t\\t Books \\t\\t Fashion')\n",
    "        self.cart = []  # To store cart items\n",
    "\n",
    "    def Electronics(self):\n",
    "        products = ['Cameras', 'Cell Phones', 'Fans', 'LCD', 'Speakers']\n",
    "        prices = [15000, 20000, 6000, 8000, 5000]\n",
    "        product_data = {'Products': products, 'Price': prices}\n",
    "        data = pd.DataFrame(product_data)\n",
    "        print(data)\n",
    "        \n",
    "        name = input('Enter the product name: ')\n",
    "        index = int(input('Enter the index value of the product: '))\n",
    "        quantity = int(input('Enter the quantity of the product: '))\n",
    "        \n",
    "        total_amount = data['Price'][index] * quantity\n",
    "        self.add_to_cart(name, quantity, total_amount)\n",
    "\n",
    "    def Books(self):\n",
    "        products = ['Fiction', 'Non-Fiction', 'Self-help', 'Programming']\n",
    "        prices = [600, 500, 300, 800]\n",
    "        product_data = {'Products': products, 'Price': prices}\n",
    "        data = pd.DataFrame(product_data)\n",
    "        print(data)\n",
    "        \n",
    "        name = input('Enter the product name: ')\n",
    "        index = int(input('Enter the index value of the product: '))\n",
    "        quantity = int(input('Enter the quantity of the product: '))\n",
    "        \n",
    "        total_amount = data['Price'][index] * quantity\n",
    "        self.add_to_cart(name, quantity, total_amount)\n",
    "\n",
    "    def Fashion(self):\n",
    "        products = ['Bottom', 'Top', 'Innerwear']\n",
    "        prices = [1500, 1000, 600]\n",
    "        product_data = {'Products': products, 'Price': prices}\n",
    "        data = pd.DataFrame(product_data)\n",
    "        print(data)\n",
    "        \n",
    "        name = input('Enter the product name: ')\n",
    "        index = int(input('Enter the index value of the product: '))\n",
    "        quantity = int(input('Enter the quantity of the product: '))\n",
    "        \n",
    "        total_amount = data['Price'][index] * quantity\n",
    "        self.add_to_cart(name, quantity, total_amount)\n",
    "\n",
    "    def add_to_cart(self, name, quantity, total_amount):\n",
    "        # Append the new product details to the cart list\n",
    "        cart_item = {'Product': name, 'Quantity': quantity, 'Order Total': total_amount}\n",
    "        self.cart.append(cart_item)\n",
    "        \n",
    "        print('The Product has been added to the Cart.')\n",
    "\n",
    "    def view_cart(self):\n",
    "        # Display all items in the cart\n",
    "        if not self.cart:\n",
    "            print(\"Your cart is empty.\")\n",
    "        else:\n",
    "            cart_df = pd.DataFrame(self.cart)\n",
    "            print(\"\\nCurrent Cart Items:\")\n",
    "            print(cart_df)\n",
    "            print(f\"\\nTotal Cart Value: {cart_df['Order Total'].sum()}Rupees\") "
   ]
  },
  {
   "cell_type": "code",
   "execution_count": 42,
   "id": "272bb3da-8355-4fa8-ab19-d0bf2cd8dce4",
   "metadata": {},
   "outputs": [
    {
     "name": "stdout",
     "output_type": "stream",
     "text": [
      "\t\t\t Welcome to our Shopping Website.\n",
      "\n",
      "\n",
      "\t\tElectronics \t\t Books \t\t Fashion\n"
     ]
    }
   ],
   "source": [
    "customer1 = Products()"
   ]
  },
  {
   "cell_type": "code",
   "execution_count": 50,
   "id": "a3f765ce-c88f-4bda-bceb-cbbbcfaef7a7",
   "metadata": {},
   "outputs": [
    {
     "name": "stdin",
     "output_type": "stream",
     "text": [
      "From which Category you wanna buy ? (Electronic/Books/Fashion) books\n"
     ]
    },
    {
     "name": "stdout",
     "output_type": "stream",
     "text": [
      "      Products  Price\n",
      "0      Fiction    600\n",
      "1  Non-Fiction    500\n",
      "2    Self-help    300\n",
      "3  Programming    800\n"
     ]
    },
    {
     "name": "stdin",
     "output_type": "stream",
     "text": [
      "Enter the product name:  programming\n",
      "Enter the index value of the product:  3\n",
      "Enter the quantity of the product:  4\n"
     ]
    },
    {
     "name": "stdout",
     "output_type": "stream",
     "text": [
      "The Product has been added to the Cart.\n"
     ]
    }
   ],
   "source": [
    "user_input = input('From which Category you wanna buy ? (Electronic/Books/Fashion)').lower()\n",
    "if user_input == 'electronics':\n",
    "    customer1.Electronics()\n",
    "elif user_input == 'books':\n",
    "    customer1.Books()\n",
    "elif user_input == 'fashion':\n",
    "    customer1.Fashion()\n",
    "else:\n",
    "    print('Not Available')"
   ]
  },
  {
   "cell_type": "code",
   "execution_count": 52,
   "id": "6efad31a-923e-4d9d-bdba-081c69828b8c",
   "metadata": {},
   "outputs": [
    {
     "name": "stdout",
     "output_type": "stream",
     "text": [
      "\n",
      "Current Cart Items:\n",
      "       Product  Quantity  Order Total\n",
      "0       bottom         4         6000\n",
      "1  programming         4         3200\n",
      "\n",
      "Total Cart Value: $9200.00\n"
     ]
    }
   ],
   "source": [
    "customer1.view_cart()"
   ]
  }
 ],
 "metadata": {
  "kernelspec": {
   "display_name": "Python 3 (ipykernel)",
   "language": "python",
   "name": "python3"
  },
  "language_info": {
   "codemirror_mode": {
    "name": "ipython",
    "version": 3
   },
   "file_extension": ".py",
   "mimetype": "text/x-python",
   "name": "python",
   "nbconvert_exporter": "python",
   "pygments_lexer": "ipython3",
   "version": "3.12.4"
  }
 },
 "nbformat": 4,
 "nbformat_minor": 5
}
